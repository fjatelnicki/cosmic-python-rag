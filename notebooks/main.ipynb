{
 "cells": [
  {
   "cell_type": "code",
   "execution_count": 11,
   "metadata": {},
   "outputs": [
    {
     "name": "stdout",
     "output_type": "stream",
     "text": [
      "The autoreload extension is already loaded. To reload it, use:\n",
      "  %reload_ext autoreload\n"
     ]
    }
   ],
   "source": [
    "# import pandas as pd\n",
    "%load_ext autoreload\n",
    "%autoreload 2\n",
    "import sys\n",
    "import os\n",
    "sys.path.append(os.path.abspath('../'))\n"
   ]
  },
  {
   "cell_type": "code",
   "execution_count": 12,
   "metadata": {},
   "outputs": [],
   "source": [
    "import json\n",
    "from cosmic-python-rag_rag.config import PROCESSED_DIR\n",
    "from cosmic-python-rag_rag.data.data_cleaning import read_all_chapter_html_files\n",
    "from cosmic-python-rag_rag.data.data_cleaning import parse_html_content_with_sections\n",
    "from cosmic-python-rag_rag.data.data_cleaning import get_processed_data\n",
    "from cosmic-python-rag_rag.retreival import get_rag_response\n",
    "\n",
    "try:\n",
    "    with open(\"../data/processed/processed_data.json\", 'r') as f:\n",
    "        processed_data = json.load(f)\n",
    "except FileNotFoundError:\n",
    "        raise FileNotFoundError(\"The processed_data.json file was not found in the PROCESSED_DIR directory.\")\n",
    "except json.JSONDecodeError as e:\n",
    "        raise json.JSONDecodeError(f\"Error decoding the JSON file: {str(e)}\", e.doc, e.pos)\n"
   ]
  },
  {
   "cell_type": "code",
   "execution_count": 13,
   "metadata": {},
   "outputs": [
    {
     "name": "stdout",
     "output_type": "stream",
     "text": [
      "Similarity score: 0.1234\n",
      "Section: Avoiding Making a Mess\n",
      "Chapter title: Events and the Message Bus\n",
      "\n",
      "\n",
      "Similarity score: 0.1612\n",
      "Section: Single Responsibility Principle\n",
      "Chapter title: Events and the Message Bus\n",
      "\n",
      "\n",
      "Similarity score: 0.1228\n",
      "Section: All Aboard the Message Bus!\n",
      "Chapter title: Events and the Message Bus\n",
      "\n",
      "\n",
      "Similarity score: 0.1094\n",
      "Section: Option 1: The Service Layer Takes Events from the Model and Puts Them on the Message Bus\n",
      "Chapter title: Events and the Message Bus\n",
      "\n",
      "\n",
      "Similarity score: 0.0666\n",
      "Section: Option 2: The Service Layer Raises Its Own Events\n",
      "Chapter title: Events and the Message Bus\n",
      "\n",
      "\n",
      "Similarity score: 0.1171\n",
      "Section: Option 3: The UoW Publishes Events to the Message Bus\n",
      "Chapter title: Events and the Message Bus\n",
      "\n",
      "\n",
      "Similarity score: 0.1473\n",
      "Section: Wrap-Up\n",
      "Chapter title: Events and the Message Bus\n",
      "\n",
      "\n",
      "Similarity score: 0.1539\n",
      "Section: Connecting Our Application to the Real World\n",
      "Chapter title: Our First Use Case: Flask API and Service Layer\n",
      "\n",
      "\n",
      "Similarity score: 0.1409\n",
      "Section: A First End-to-End Test\n",
      "Chapter title: Our First Use Case: Flask API and Service Layer\n",
      "\n",
      "\n",
      "Similarity score: 0.1111\n",
      "Section: The Straightforward Implementation\n",
      "Chapter title: Our First Use Case: Flask API and Service Layer\n",
      "\n",
      "\n",
      "Similarity score: 0.1010\n",
      "Section: Error Conditions That Require Database Checks\n",
      "Chapter title: Our First Use Case: Flask API and Service Layer\n",
      "\n",
      "\n",
      "Similarity score: 0.1252\n",
      "Section: Introducing a Service Layer, and Using FakeRepository to Unit Test It\n",
      "Chapter title: Our First Use Case: Flask API and Service Layer\n",
      "\n",
      "\n",
      "Similarity score: 0.1458\n",
      "Section: Why Is Everything Called a Service?\n",
      "Chapter title: Our First Use Case: Flask API and Service Layer\n",
      "\n",
      "\n",
      "Similarity score: 0.1250\n",
      "Section: Putting Things in Folders to See Where It All Belongs\n",
      "Chapter title: Our First Use Case: Flask API and Service Layer\n",
      "\n",
      "\n",
      "Similarity score: 0.1276\n",
      "Section: Wrap-Up\n",
      "Chapter title: Our First Use Case: Flask API and Service Layer\n",
      "\n",
      "\n",
      "Similarity score: 0.0673\n",
      "Section: Commands and Events\n",
      "Chapter title: Commands and Command Handler\n",
      "\n",
      "\n",
      "Similarity score: 0.1010\n",
      "Section: Differences in Exception Handling\n",
      "Chapter title: Commands and Command Handler\n",
      "\n",
      "\n",
      "Similarity score: 0.1672\n",
      "Section: Discussion: Events, Commands, and Error Handling\n",
      "Chapter title: Commands and Command Handler\n",
      "\n",
      "\n",
      "Similarity score: 0.0985\n",
      "Section: Recovering from Errors Synchronously\n",
      "Chapter title: Commands and Command Handler\n",
      "\n",
      "\n",
      "Similarity score: 0.0964\n",
      "Section: Wrap-Up\n",
      "Chapter title: Commands and Command Handler\n",
      "\n",
      "\n"
     ]
    }
   ],
   "source": [
    "\n",
    "query = \"What is the purpose of life?\"\n",
    "\n",
    "top_sections, matched_keywords = get_rag_response(query, processed_data)\n"
   ]
  },
  {
   "cell_type": "code",
   "execution_count": null,
   "metadata": {},
   "outputs": [],
   "source": []
  }
 ],
 "metadata": {
  "kernelspec": {
   "display_name": ".venv",
   "language": "python",
   "name": "python3"
  },
  "language_info": {
   "codemirror_mode": {
    "name": "ipython",
    "version": 3
   },
   "file_extension": ".py",
   "mimetype": "text/x-python",
   "name": "python",
   "nbconvert_exporter": "python",
   "pygments_lexer": "ipython3",
   "version": "3.9.20"
  }
 },
 "nbformat": 4,
 "nbformat_minor": 2
}
